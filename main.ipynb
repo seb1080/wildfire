{
 "cells": [
  {
   "cell_type": "code",
   "execution_count": 68,
   "metadata": {},
   "outputs": [],
   "source": [
    "# The goal of this notebook is to explore wildfire risk area\n",
    "import geopandas as gpd\n",
    "import fiona\n",
    "import requests, zipfile, io"
   ]
  },
  {
   "cell_type": "markdown",
   "metadata": {},
   "source": [
    "1. Définir la question à répondre\n",
    "\n",
    "1.1 Combien de municipalités sont à risque de feu de forêt au Québec ?\n",
    "\n",
    "1.2 Identifier les biens et les infrastructures les plus exposés aux feux de forêt à l’échelle des communautés.\n",
    "\n",
    "2. Définir les sources de données pour cette analyse\n",
    "\n",
    "\n",
    "\n",
    "\n",
    "\n"
   ]
  },
  {
   "cell_type": "code",
   "execution_count": 69,
   "metadata": {},
   "outputs": [],
   "source": [
    "# 2. Définir les sources de données pour cette analyse\n",
    "\n",
    "# Municipalités\n",
    "regionalUrl = 'https://diffusion.mern.gouv.qc.ca/diffusion/RGQ/Vectoriel/Theme/Regional/SDA_100k/SHP/BDAT(adm)_SHP.zip'\n",
    "# Aéroport\n",
    "airportsUrl = 'https://ws.mapserver.transports.gouv.qc.ca/swtq?service=wfs&version=2.0.0&request=getfeature&typename=ms:evenements&outfile=Aeroport&srsname=EPSG:4326&outputformat=geojson'\n",
    "# villages autochtones\n",
    "indigenousVillagesUrl = 'https://diffusion.mern.gouv.qc.ca/Diffusion/RGQ/Documentation/BDVA/Index_BDVA.zip'\n",
    "\n",
    "firesUrl = 'https://diffusion.mffp.gouv.qc.ca/Diffusion/DonneeGratuite/Foret/PERTURBATIONS_NATURELLES/Feux_foret/FEUX_PROV_GPKG.zip'\n",
    "\n",
    "# Empreintes de bâtiments\n",
    "buildingFootPrint = 'https://diffusion.mern.gouv.qc.ca/diffusion/RGQ/Vectoriel/Theme/Local/Batiments/FGDB/QC_600019-54_Prevention_risques_sinistres_2019_fgdb.zip'"
   ]
  },
  {
   "cell_type": "code",
   "execution_count": 70,
   "metadata": {},
   "outputs": [],
   "source": [
    "# Downloads the data sources, then format to DataFrame\n",
    "responseBody = requests.get(airportsUrl, stream=True).json()\n",
    "airports = gpd.GeoDataFrame.from_features(responseBody['features'], crs=\"EPSG:4326\")\n",
    "# airports.head(10)"
   ]
  },
  {
   "cell_type": "code",
   "execution_count": 79,
   "metadata": {},
   "outputs": [],
   "source": [
    "# ref: https://pythonguides.com/download-zip-file-from-url-using-python/\n",
    "\n",
    "import requests, zipfile, io\n",
    "\n",
    "fireUrl = 'https://diffusion.mffp.gouv.qc.ca/Diffusion/DonneeGratuite/Foret/PERTURBATIONS_NATURELLES/Feux_foret/Feux_pt_ori_KMZ.zip'\n",
    "filename = 'FEUX_CONT_SIMP_2021.kmz'\n",
    "\n",
    "request = requests.get(fireUrl)\n",
    "\n",
    "z = zipfile.ZipFile(io.BytesIO(r.content))\n",
    "\n",
    "z.extractall(\"./dataSource\")"
   ]
  },
  {
   "cell_type": "code",
   "execution_count": 71,
   "metadata": {},
   "outputs": [],
   "source": [
    "# value = gpd.read_file('regional', url=regionalUrl)"
   ]
  },
  {
   "cell_type": "markdown",
   "metadata": {},
   "source": [
    "import requests\n",
    "import fiona\n",
    "import geopandas as gpd\n",
    "\n",
    "request = requests.get(firesUrl)\n",
    "b = bytes(request.content)\n",
    "with fiona.BytesCollection(b) as f:\n",
    "    crs = f.crs\n",
    "    gdf = gpd.GeoDataFrame.from_features(f, crs=crs)\n",
    "    print(gdf.head())"
   ]
  },
  {
   "cell_type": "markdown",
   "metadata": {},
   "source": [
    "r = requests.get(indigenousVillagesUrl, stream=True)\n",
    "z = zipfile.ZipFile(io.BytesIO(r.content))\n",
    "dataSource = z.extractall(\"./dataSource\")"
   ]
  },
  {
   "cell_type": "markdown",
   "metadata": {},
   "source": [
    "with fiona.BytesCollection(dataSource.read()) as src:\n",
    "    crs = src.crs\n",
    "    gdf = gpd.GeoDataFrame.from_features(src, crs=crs)\n",
    "    print(gdf.head())"
   ]
  }
 ],
 "metadata": {
  "kernelspec": {
   "display_name": "geoenv",
   "language": "python",
   "name": "python3"
  },
  "language_info": {
   "codemirror_mode": {
    "name": "ipython",
    "version": 3
   },
   "file_extension": ".py",
   "mimetype": "text/x-python",
   "name": "python",
   "nbconvert_exporter": "python",
   "pygments_lexer": "ipython3",
   "version": "3.11.5"
  },
  "orig_nbformat": 4
 },
 "nbformat": 4,
 "nbformat_minor": 2
}
