{
 "cells": [
  {
   "cell_type": "code",
   "execution_count": 21,
   "metadata": {},
   "outputs": [],
   "source": [
    "# The goal of this notebook is to explore  wildfire model\n",
    "import geopandas as gpd\n",
    "import requests, zipfile, io"
   ]
  },
  {
   "cell_type": "markdown",
   "metadata": {},
   "source": [
    "1. Définir la question à répondre\n",
    "\n",
    "1.1 Combien de municipalités sont à risque de feu de forêt au Québec ?\n",
    "\n",
    "1.2 Identifier les biens et les infrastructures les plus exposés aux feux de forêt à l’échelle des communautés.\n",
    "\n",
    "2. Définir les sources de données pour cette analyse\n",
    "\n",
    "\n",
    "\n",
    "\n",
    "\n"
   ]
  },
  {
   "cell_type": "code",
   "execution_count": 22,
   "metadata": {},
   "outputs": [],
   "source": [
    "# 2. Définir les sources de données pour cette analyse\n",
    "\n",
    "# Municipalités\n",
    "regionalUrl = 'https://diffusion.mern.gouv.qc.ca/diffusion/RGQ/Vectoriel/Theme/Regional/SDA_100k/SHP/BDAT(adm)_SHP.zip'\n",
    "# Aéroport\n",
    "airportsUrl = 'https://ws.mapserver.transports.gouv.qc.ca/swtq?service=wfs&version=2.0.0&request=getfeature&typename=ms:evenements&outfile=Aeroport&srsname=EPSG:4326&outputformat=geojson'\n",
    "# villages autochtones\n",
    "indigenousVillagesUrl = 'https://diffusion.mern.gouv.qc.ca/Diffusion/RGQ/Documentation/BDVA/Index_BDVA.zip'\n",
    "\n",
    "firesUrl = 'https://diffusion.mffp.gouv.qc.ca/Diffusion/DonneeGratuite/Foret/PERTURBATIONS_NATURELLES/Feux_foret/FEUX_PROV_GPKG.zip'\n",
    "\n",
    "# Empreintes de bâtiments\n",
    "buildingFootPrint = 'https://diffusion.mern.gouv.qc.ca/diffusion/RGQ/Vectoriel/Theme/Local/Batiments/FGDB/'"
   ]
  },
  {
   "cell_type": "code",
   "execution_count": 28,
   "metadata": {},
   "outputs": [],
   "source": [
    "# Downloads the data sources, then format to DataFrame\n",
    "responseBody = requests.get(airportsUrl, stream=True).json()\n",
    "airports = gpd.GeoDataFrame.from_features(responseBody['features'], crs=\"EPSG:4326\")\n",
    "# airports.head(10)"
   ]
  },
  {
   "cell_type": "code",
   "execution_count": 25,
   "metadata": {},
   "outputs": [],
   "source": [
    "r = requests.get(indigenousVillagesUrl, stream=True)\n",
    "z = zipfile.ZipFile(io.BytesIO(r.content))\n",
    "test = z.extractall(\"./dataSource\")"
   ]
  }
 ],
 "metadata": {
  "kernelspec": {
   "display_name": "geoenv",
   "language": "python",
   "name": "python3"
  },
  "language_info": {
   "codemirror_mode": {
    "name": "ipython",
    "version": 3
   },
   "file_extension": ".py",
   "mimetype": "text/x-python",
   "name": "python",
   "nbconvert_exporter": "python",
   "pygments_lexer": "ipython3",
   "version": "3.11.5"
  },
  "orig_nbformat": 4
 },
 "nbformat": 4,
 "nbformat_minor": 2
}
